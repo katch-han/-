{
 "cells": [
  {
   "cell_type": "code",
   "execution_count": null,
   "metadata": {},
   "outputs": [],
   "source": [
    "模型融合方式任意，并结合Task-5给出你的最优结果\n",
    "例如 stacking融合，用你目前评分最高的模型作为基准模型，和其它模型进行stacking整合，得到最终模型及评分结果\n"
   ]
  },
  {
   "cell_type": "code",
   "execution_count": 359,
   "metadata": {
    "scrolled": false
   },
   "outputs": [],
   "source": [
    "import numpy as np\n",
    "import pandas as pd\n",
    "import warnings\n",
    "warnings.filterwarnings('ignore')\n",
    "\n",
    "#导入处理后的数据，4754*81\n",
    "data = pd.read_csv('data/data_81col.csv',index_col=0)"
   ]
  },
  {
   "cell_type": "code",
   "execution_count": 365,
   "metadata": {},
   "outputs": [],
   "source": [
    "# 生成训练集和测试集\n",
    "from sklearn.model_selection import train_test_split\n",
    "y = data['status']\n",
    "X = data.drop(['status'],axis = 1)\n",
    "X_train,X_test,y_train,y_test = train_test_split(X,y,test_size=0.3,random_state=2018)"
   ]
  },
  {
   "cell_type": "code",
   "execution_count": 361,
   "metadata": {},
   "outputs": [],
   "source": [
    "#导入算法\n",
    "from sklearn.tree import DecisionTreeClassifier\n",
    "from sklearn.ensemble import RandomForestClassifier\n",
    "from xgboost import XGBClassifier\n",
    "#导入模型评估分数\n",
    "from sklearn.metrics import accuracy_score,precision_score,recall_score,f1_score,roc_auc_score,roc_curve\n",
    "import matplotlib.pyplot as plt\n",
    "import seaborn as sns\n",
    "from sklearn.model_selection import GridSearchCV\n",
    "from sklearn.linear_model import LogisticRegression\n",
    "from sklearn.svm import SVC\n"
   ]
  },
  {
   "cell_type": "code",
   "execution_count": 367,
   "metadata": {
    "scrolled": false
   },
   "outputs": [],
   "source": [
    "from sklearn.model_selection import KFold\n",
    "\n",
    "#将训练集分五折\n",
    "kf = KFold(n_splits=5,shuffle=False)\n",
    "\n",
    "def get_new(clf,X_train,y_train,X_test):\n",
    "    \"\"\"\"\n",
    "    clf  模型\n",
    "    X_train   3327*80\n",
    "    y_train \n",
    "    X_test  1427*80\n",
    "    \"\"\"\n",
    "    return_train= np.zeros((X_train.shape[0],))   # (3327,)\n",
    "    return_test_predict = np.zeros((X_test.shape[0],5)) # (1427,5)\n",
    "\n",
    "    #将 X_train 分成5折，train_index 为4折的索引，用来训练  val_index为1折的索引 用来预测\n",
    "    for i,(train_index,val_index) in enumerate(kf.split(X_train)):  #train 2661   val 666\n",
    "    #拟合4折样本\n",
    "#         clf.fit(X_train.iloc[train_index],y_train.iloc[train_index])  \n",
    "        clf.fit(X_train[train_index],y_train[train_index])  \n",
    "        #预测1折的样本并放入 return_train中\n",
    "        return_train[val_index] = clf.predict(X_train[val_index])\n",
    "\n",
    "        #预测 X_test \n",
    "        return_test_predict[:,i] = clf.predict(X_test)\n",
    "\n",
    "    return_test = np.mean(return_test_predict,axis=1).reshape(-1,1)  \n",
    "#     print(return_train.shape)\n",
    "#     print(return_test.shape)\n",
    "    #这个模型的5折预测后生成的结果\n",
    "    return (return_train,return_test)"
   ]
  },
  {
   "cell_type": "code",
   "execution_count": 366,
   "metadata": {
    "scrolled": true
   },
   "outputs": [],
   "source": [
    "#对X_train y_train 的索引进行处理, 去掉原来的，改为顺序索引\n",
    "X_train = X_train.reset_index(drop=True).values\n",
    "y_train = y_train.reset_index(drop=True).values\n",
    "X_test = X_test.values"
   ]
  },
  {
   "cell_type": "code",
   "execution_count": 368,
   "metadata": {},
   "outputs": [],
   "source": [
    "#STACKING\n",
    "clf = DecisionTreeClassifier(class_weight='balanced', criterion='entropy', max_depth= 5)\n",
    "dt_train,dt_test = get_new(clf,X_train,y_train,X_test)\n",
    "\n",
    "clf = RandomForestClassifier(class_weight='balanced', criterion='gini', max_depth=5, n_estimators=50, n_jobs=2)\n",
    "rf_train,rf_test = get_new(clf,X_train,y_train,X_test)\n",
    "\n",
    "clf = XGBClassifier(learing_rate=0.001, max_depth=3, n_estimators=50, n_jobs=2)\n",
    "xgb_train,xgb_test = get_new(clf,X_train,y_train,X_test)\n",
    "\n",
    "\n",
    "#特征标准化\n",
    "from sklearn.preprocessing import StandardScaler\n",
    "ss = StandardScaler()\n",
    "X_train_scaled = ss.fit_transform(X_train)\n",
    "X_test_scaled = ss.transform(X_test)\n",
    "\n",
    "clf = LogisticRegression(C=0.1, max_iter=50, solver='liblinear', class_weight='balanced',n_jobs=2)\n",
    "lr_train,lr_test = get_new(clf,X_train_scaled,y_train,X_test_scaled)\n",
    "\n",
    "clf = SVC(C=1, kernel='linear', class_weight='balanced',probability=True)\n",
    "svc_train,svc_test = get_new(clf,X_train_scaled,y_train,X_test_scaled)\n"
   ]
  },
  {
   "cell_type": "code",
   "execution_count": 387,
   "metadata": {},
   "outputs": [],
   "source": [
    "#将预测的结果生成一个DataFrame\n",
    "df_X_train = pd.DataFrame({'dt':dt_train,'rf':rf_train,'xgb':xgb_train,'lr':lr_train,'svc':svc_train})\n",
    "df_X_test = pd.DataFrame({'dt':dt_test.reshape(-1),'rf':rf_test.reshape(-1),'xgb':xgb_test.reshape(-1),'lr':lr_test.reshape(-1),'svc':svc_test.reshape(-1)})\n"
   ]
  },
  {
   "cell_type": "code",
   "execution_count": 388,
   "metadata": {},
   "outputs": [
    {
     "name": "stdout",
     "output_type": "stream",
     "text": [
      "final accuracy : 0.7918710581639804\n"
     ]
    }
   ],
   "source": [
    "#使用逻辑回归对结果进行拟合\n",
    "from sklearn.linear_model import LogisticRegression\n",
    "\n",
    "lr = LogisticRegression()\n",
    "lr.fit(df_X_train,y_train)\n",
    "\n",
    "y_predict = lr.predict(df_X_test)\n",
    "print('final accuracy :',accuracy_score(y_test,y_predict))\n"
   ]
  }
 ],
 "metadata": {
  "kernelspec": {
   "display_name": "Python 3",
   "language": "python",
   "name": "python3"
  },
  "language_info": {
   "codemirror_mode": {
    "name": "ipython",
    "version": 3
   },
   "file_extension": ".py",
   "mimetype": "text/x-python",
   "name": "python",
   "nbconvert_exporter": "python",
   "pygments_lexer": "ipython3",
   "version": "3.7.3"
  }
 },
 "nbformat": 4,
 "nbformat_minor": 2
}
