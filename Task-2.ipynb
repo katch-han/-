{
 "cells": [
  {
   "cell_type": "raw",
   "metadata": {},
   "source": [
    "特征衍生\n",
    "特征挑选：分别用IV值和随机森林等进行特征选择\n",
    "……以及你能想到特征工程处理\n",
    "\n"
   ]
  },
  {
   "cell_type": "raw",
   "metadata": {},
   "source": [
    "什么是IV值\n",
    "    IV值（Information Value），即信息价值指标，\n",
    "    是评分卡模型中的一个常见指标，在金融风控领域得到了广泛的应用，尤其是在特征选择的场景下，会经常提及这个概念\n",
    "    IV值衡量了某个特征对目标的影响程度，其基本思想是根据该特征所命中黑白样本的比率与总黑白样本的比率，来对比和计算其关联程度\n",
    "如何计算IV值\n",
    "    IV值衡量了某个特征对目标的影响程度，其基本思想是根据该特征所命中黑白样本的比率与总黑白样本的比率，来对比和计算其关联程度，\n",
    "    "
   ]
  },
  {
   "cell_type": "code",
   "execution_count": 2,
   "metadata": {},
   "outputs": [],
   "source": [
    "import numpy as np\n",
    "import pandas as pd\n",
    "data = pd.read_csv('data/data.csv',encoding='gb18030')"
   ]
  },
  {
   "cell_type": "code",
   "execution_count": 3,
   "metadata": {},
   "outputs": [
    {
     "data": {
      "text/html": [
       "<div>\n",
       "<style scoped>\n",
       "    .dataframe tbody tr th:only-of-type {\n",
       "        vertical-align: middle;\n",
       "    }\n",
       "\n",
       "    .dataframe tbody tr th {\n",
       "        vertical-align: top;\n",
       "    }\n",
       "\n",
       "    .dataframe thead th {\n",
       "        text-align: right;\n",
       "    }\n",
       "</style>\n",
       "<table border=\"1\" class=\"dataframe\">\n",
       "  <thead>\n",
       "    <tr style=\"text-align: right;\">\n",
       "      <th></th>\n",
       "      <th>Unnamed: 0</th>\n",
       "      <th>custid</th>\n",
       "      <th>trade_no</th>\n",
       "      <th>bank_card_no</th>\n",
       "      <th>low_volume_percent</th>\n",
       "      <th>middle_volume_percent</th>\n",
       "      <th>take_amount_in_later_12_month_highest</th>\n",
       "      <th>trans_amount_increase_rate_lately</th>\n",
       "      <th>trans_activity_month</th>\n",
       "      <th>trans_activity_day</th>\n",
       "      <th>...</th>\n",
       "      <th>loans_max_limit</th>\n",
       "      <th>loans_avg_limit</th>\n",
       "      <th>consfin_credit_limit</th>\n",
       "      <th>consfin_credibility</th>\n",
       "      <th>consfin_org_count_current</th>\n",
       "      <th>consfin_product_count</th>\n",
       "      <th>consfin_max_limit</th>\n",
       "      <th>consfin_avg_limit</th>\n",
       "      <th>latest_query_day</th>\n",
       "      <th>loans_latest_day</th>\n",
       "    </tr>\n",
       "  </thead>\n",
       "  <tbody>\n",
       "    <tr>\n",
       "      <th>0</th>\n",
       "      <td>5</td>\n",
       "      <td>2791858</td>\n",
       "      <td>20180507115231274000000023057383</td>\n",
       "      <td>卡号1</td>\n",
       "      <td>0.01</td>\n",
       "      <td>0.99</td>\n",
       "      <td>0</td>\n",
       "      <td>0.90</td>\n",
       "      <td>0.55</td>\n",
       "      <td>0.313</td>\n",
       "      <td>...</td>\n",
       "      <td>2900.0</td>\n",
       "      <td>1688.0</td>\n",
       "      <td>1200.0</td>\n",
       "      <td>75.0</td>\n",
       "      <td>1.0</td>\n",
       "      <td>2.0</td>\n",
       "      <td>1200.0</td>\n",
       "      <td>1200.0</td>\n",
       "      <td>12.0</td>\n",
       "      <td>18.0</td>\n",
       "    </tr>\n",
       "    <tr>\n",
       "      <th>1</th>\n",
       "      <td>10</td>\n",
       "      <td>534047</td>\n",
       "      <td>20180507121002192000000023073000</td>\n",
       "      <td>卡号1</td>\n",
       "      <td>0.02</td>\n",
       "      <td>0.94</td>\n",
       "      <td>2000</td>\n",
       "      <td>1.28</td>\n",
       "      <td>1.00</td>\n",
       "      <td>0.458</td>\n",
       "      <td>...</td>\n",
       "      <td>3500.0</td>\n",
       "      <td>1758.0</td>\n",
       "      <td>15100.0</td>\n",
       "      <td>80.0</td>\n",
       "      <td>5.0</td>\n",
       "      <td>6.0</td>\n",
       "      <td>22800.0</td>\n",
       "      <td>9360.0</td>\n",
       "      <td>4.0</td>\n",
       "      <td>2.0</td>\n",
       "    </tr>\n",
       "    <tr>\n",
       "      <th>2</th>\n",
       "      <td>12</td>\n",
       "      <td>2849787</td>\n",
       "      <td>20180507125159718000000023114911</td>\n",
       "      <td>卡号1</td>\n",
       "      <td>0.04</td>\n",
       "      <td>0.96</td>\n",
       "      <td>0</td>\n",
       "      <td>1.00</td>\n",
       "      <td>1.00</td>\n",
       "      <td>0.114</td>\n",
       "      <td>...</td>\n",
       "      <td>1600.0</td>\n",
       "      <td>1250.0</td>\n",
       "      <td>4200.0</td>\n",
       "      <td>87.0</td>\n",
       "      <td>1.0</td>\n",
       "      <td>1.0</td>\n",
       "      <td>4200.0</td>\n",
       "      <td>4200.0</td>\n",
       "      <td>2.0</td>\n",
       "      <td>6.0</td>\n",
       "    </tr>\n",
       "    <tr>\n",
       "      <th>3</th>\n",
       "      <td>13</td>\n",
       "      <td>1809708</td>\n",
       "      <td>20180507121358683000000388283484</td>\n",
       "      <td>卡号1</td>\n",
       "      <td>0.00</td>\n",
       "      <td>0.96</td>\n",
       "      <td>2000</td>\n",
       "      <td>0.13</td>\n",
       "      <td>0.57</td>\n",
       "      <td>0.777</td>\n",
       "      <td>...</td>\n",
       "      <td>3200.0</td>\n",
       "      <td>1541.0</td>\n",
       "      <td>16300.0</td>\n",
       "      <td>80.0</td>\n",
       "      <td>5.0</td>\n",
       "      <td>5.0</td>\n",
       "      <td>30000.0</td>\n",
       "      <td>12180.0</td>\n",
       "      <td>2.0</td>\n",
       "      <td>4.0</td>\n",
       "    </tr>\n",
       "    <tr>\n",
       "      <th>4</th>\n",
       "      <td>14</td>\n",
       "      <td>2499829</td>\n",
       "      <td>20180507115448545000000388205844</td>\n",
       "      <td>卡号1</td>\n",
       "      <td>0.01</td>\n",
       "      <td>0.99</td>\n",
       "      <td>0</td>\n",
       "      <td>0.46</td>\n",
       "      <td>1.00</td>\n",
       "      <td>0.175</td>\n",
       "      <td>...</td>\n",
       "      <td>2300.0</td>\n",
       "      <td>1630.0</td>\n",
       "      <td>8300.0</td>\n",
       "      <td>79.0</td>\n",
       "      <td>2.0</td>\n",
       "      <td>2.0</td>\n",
       "      <td>8400.0</td>\n",
       "      <td>8250.0</td>\n",
       "      <td>22.0</td>\n",
       "      <td>120.0</td>\n",
       "    </tr>\n",
       "  </tbody>\n",
       "</table>\n",
       "<p>5 rows × 90 columns</p>\n",
       "</div>"
      ],
      "text/plain": [
       "   Unnamed: 0   custid                          trade_no bank_card_no  \\\n",
       "0           5  2791858  20180507115231274000000023057383          卡号1   \n",
       "1          10   534047  20180507121002192000000023073000          卡号1   \n",
       "2          12  2849787  20180507125159718000000023114911          卡号1   \n",
       "3          13  1809708  20180507121358683000000388283484          卡号1   \n",
       "4          14  2499829  20180507115448545000000388205844          卡号1   \n",
       "\n",
       "   low_volume_percent  middle_volume_percent  \\\n",
       "0                0.01                   0.99   \n",
       "1                0.02                   0.94   \n",
       "2                0.04                   0.96   \n",
       "3                0.00                   0.96   \n",
       "4                0.01                   0.99   \n",
       "\n",
       "   take_amount_in_later_12_month_highest  trans_amount_increase_rate_lately  \\\n",
       "0                                      0                               0.90   \n",
       "1                                   2000                               1.28   \n",
       "2                                      0                               1.00   \n",
       "3                                   2000                               0.13   \n",
       "4                                      0                               0.46   \n",
       "\n",
       "   trans_activity_month  trans_activity_day  ...  loans_max_limit  \\\n",
       "0                  0.55               0.313  ...           2900.0   \n",
       "1                  1.00               0.458  ...           3500.0   \n",
       "2                  1.00               0.114  ...           1600.0   \n",
       "3                  0.57               0.777  ...           3200.0   \n",
       "4                  1.00               0.175  ...           2300.0   \n",
       "\n",
       "   loans_avg_limit  consfin_credit_limit  consfin_credibility  \\\n",
       "0           1688.0                1200.0                 75.0   \n",
       "1           1758.0               15100.0                 80.0   \n",
       "2           1250.0                4200.0                 87.0   \n",
       "3           1541.0               16300.0                 80.0   \n",
       "4           1630.0                8300.0                 79.0   \n",
       "\n",
       "   consfin_org_count_current  consfin_product_count  consfin_max_limit  \\\n",
       "0                        1.0                    2.0             1200.0   \n",
       "1                        5.0                    6.0            22800.0   \n",
       "2                        1.0                    1.0             4200.0   \n",
       "3                        5.0                    5.0            30000.0   \n",
       "4                        2.0                    2.0             8400.0   \n",
       "\n",
       "   consfin_avg_limit  latest_query_day  loans_latest_day  \n",
       "0             1200.0              12.0              18.0  \n",
       "1             9360.0               4.0               2.0  \n",
       "2             4200.0               2.0               6.0  \n",
       "3            12180.0               2.0               4.0  \n",
       "4             8250.0              22.0             120.0  \n",
       "\n",
       "[5 rows x 90 columns]"
      ]
     },
     "execution_count": 3,
     "metadata": {},
     "output_type": "execute_result"
    }
   ],
   "source": [
    "data.head()"
   ]
  },
  {
   "cell_type": "code",
   "execution_count": 4,
   "metadata": {},
   "outputs": [
    {
     "name": "stdout",
     "output_type": "stream",
     "text": [
      "一线城市    3403\n",
      "三线城市    1064\n",
      "境外       150\n",
      "二线城市     131\n",
      "其他城市       4\n",
      "Name: reg_preference_for_trad, dtype: int64\n"
     ]
    }
   ],
   "source": [
    "#删除无用列\n",
    "useless_columns = ['Unnamed: 0','custid','trade_no', 'bank_card_no', 'first_transaction_time', 'id_name','source']\n",
    "data = data.drop(useless_columns,axis=1)\n",
    "#删除一行中空值小于60%的行\n",
    "data.dropna(thresh = 60,axis=0)\n",
    "#填充 student_featur 空值 ,以 0 填充 \n",
    "data['student_feature'].fillna(0,inplace=True)\n",
    "#转换列  reg_preference_for_trad\n",
    "city_map = {'一线城市':1,'二线城市':2,'三线城市':3,'其他城市':4,'境外':5}\n",
    "data['reg_preference_for_trad'] = data['reg_preference_for_trad'].map(city_map)\n"
   ]
  },
  {
   "cell_type": "code",
   "execution_count": 13,
   "metadata": {
    "scrolled": true
   },
   "outputs": [],
   "source": [
    "#其它空值以 平均值  填充\n",
    "data.fillna(data.mean(),inplace=True)"
   ]
  },
  {
   "cell_type": "code",
   "execution_count": 18,
   "metadata": {},
   "outputs": [],
   "source": [
    "#删除 latest_query_time  loans_latest_time 两个object 列\n",
    "data.drop(['loans_latest_time','latest_query_time'],axis=1,inplace=True)"
   ]
  },
  {
   "cell_type": "code",
   "execution_count": 20,
   "metadata": {},
   "outputs": [],
   "source": [
    "y = data['status']\n",
    "X = data.drop('status',axis=1)\n",
    "\n",
    "from sklearn.model_selection import train_test_split\n",
    "X_train,X_test,y_train,y_test = train_test_split(X,y,test_size=0.3,random_state=2018)"
   ]
  },
  {
   "cell_type": "code",
   "execution_count": null,
   "metadata": {
    "scrolled": true
   },
   "outputs": [],
   "source": [
    "#使用随机森林取得每个特征的重要得分\n",
    "from sklearn.ensemble import RandomForestClassifier\n",
    "\n",
    "rfc = RandomForestClassifier(n_estimators=1000)\n",
    "rfc.fit(X_train,y_train)"
   ]
  },
  {
   "cell_type": "code",
   "execution_count": 31,
   "metadata": {
    "scrolled": true
   },
   "outputs": [
    {
     "name": "stdout",
     "output_type": "stream",
     "text": [
      "[('trans_fail_top_count_enum_last_1_month', 0.05346182955240316), ('history_suc_fee', 0.04739123378137743), ('latest_six_month_apply', 0.03637557698357155), ('trans_day_last_12_month', 0.029126013707717023), ('loans_settle_count', 0.025484292182109403), ('latest_one_month_suc', 0.02168245919114242), ('trans_amount_3_month', 0.01750648550578117), ('repayment_capability', 0.016525464710327006), ('consfin_avg_limit', 0.01647513449765205), ('trans_fail_top_count_enum_last_6_month', 0.016399567300551362), ('status', 0.01639742008770985), ('max_cumulative_consume_later_1_month', 0.016287379364622847), ('first_transaction_day', 0.016041953020547544), ('trans_amount_increase_rate_lately', 0.015262333170822423), ('consfin_max_limit', 0.01519615833198517), ('trans_fail_top_count_enum_last_12_month', 0.015193579662633046), ('avg_price_last_12_month', 0.015129288857819645), ('historical_trans_amount', 0.014913784471187798), ('abs', 0.01482925600860082), ('historical_trans_day', 0.01481361274432558), ('pawns_auctions_trusts_consume_last_6_month', 0.01428770268116726), ('trans_activity_day', 0.014224141524470732), ('latest_query_day', 0.013980745724858423), ('loans_max_limit', 0.013742245473010934), ('trans_days_interval_filter', 0.013658614343030253), ('latest_six_month_loan', 0.013550604114575425), ('number_of_trans_from_2011', 0.013181736910968855), ('loans_avg_limit', 0.013141244549234888), ('trans_days_interval', 0.012957790893618365), ('trans_top_time_last_6_month', 0.012562021652676357), ('consume_top_time_last_6_month', 0.012396564683180856), ('consfin_product_count', 0.012094996039582275), ('loans_product_count', 0.012040523743756398), ('latest_one_month_fail', 0.012000423351409094), ('rank_trad_1_month', 0.011841975849251046), ('loans_count', 0.011733683000607929), ('trans_activity_month', 0.011593004225892711), ('trans_top_time_last_1_month', 0.011555850521823929), ('apply_score', 0.011410110283603307), ('loans_credibility_behavior', 0.011387811424355885), ('consume_top_time_last_1_month', 0.01133028611613333), ('transd_mcc', 0.01087300707046572), ('loans_long_time', 0.010769014626031156), ('take_amount_in_later_12_month_highest', 0.010576445250730314), ('latest_three_month_loan', 0.01050995969116833), ('query_cash_count', 0.010457253828435008), ('consfin_credit_limit', 0.010431699850733243), ('latest_three_month_apply', 0.010323839592918806), ('middle_volume_percent', 0.010185292125771007), ('latest_one_month_apply', 0.009978843764253526), ('consume_mini_time_last_1_month', 0.009925010069298546), ('history_fail_fee', 0.00990985809440912), ('max_consume_count_later_6_month', 0.009810687488875206), ('loans_overdue_count', 0.009754294619633836), ('avg_price_top_last_12_valid_month', 0.009734386773739345), ('pawns_auctions_trusts_consume_last_1_month', 0.009610676060352293), ('apply_credibility', 0.009335341155915318), ('query_org_count', 0.009033159043213938), ('query_sum_count', 0.00883762508803944), ('loans_credit_limit', 0.008824113492794144), ('loans_score', 0.008748970383943133), ('latest_one_month_loan', 0.008514275149184115), ('loans_org_count_current', 0.008400992563347807), ('consfin_org_count_behavior', 0.00790040611915471), ('loans_credibility_limit', 0.007868762972322758), ('consfin_org_count_current', 0.00785799961064828), ('query_finance_count', 0.0078022219970065405), ('low_volume_percent', 0.0075481134396888526), ('consfin_credibility', 0.007165015659587824), ('top_trans_count_last_1_month', 0.0070284576779014165), ('loans_org_count_behavior', 0.006823772963982857), ('avg_consume_less_12_valid_month', 0.006752349985585295), ('regional_mobility', 0.0052297882531873105), ('cross_consume_count_last_1_month', 0.004210618251940889), ('loans_cash_count', 0.0038757806681069323), ('reg_preference_for_trad', 0.002927930965076002), ('student_feature', 0.002074059013600782), ('railway_consume_count_last_12_month', 0.0008497896666710187), ('jewelry_consume_count_last_6_month', 0.00025144326235380194), ('is_high_user', 0.00012384346983583804)]\n"
     ]
    }
   ],
   "source": [
    "feature_dict = dict(zip(data.columns,rfc.feature_importances_))\n",
    "print(sorted(feature_dict.items(),key=lambda d:d[1],reverse=True))"
   ]
  },
  {
   "cell_type": "code",
   "execution_count": 114,
   "metadata": {},
   "outputs": [
    {
     "data": {
      "text/plain": [
       "take_amount_in_later_12_month_highest    68000\n",
       "dtype: int64"
      ]
     },
     "execution_count": 114,
     "metadata": {},
     "output_type": "execute_result"
    }
   ],
   "source": [
    "X[['take_amount_in_later_12_month_highest']].max()"
   ]
  },
  {
   "cell_type": "code",
   "execution_count": 223,
   "metadata": {
    "scrolled": false
   },
   "outputs": [],
   "source": [
    "# 求IV值  对 take_amount_in_later_12_month_highest 列\n",
    "from matplotlib import pyplot as plt\n",
    "import seaborn as sns\n",
    "\n",
    "#查看数据分布\n",
    "# X.take_amount_in_later_12_month_highest.hist()\n",
    "\n",
    "\n"
   ]
  },
  {
   "cell_type": "code",
   "execution_count": 237,
   "metadata": {},
   "outputs": [],
   "source": [
    "def get_iv(X,y,col):\n",
    "    # 10 等频分箱 \n",
    "    new_df = X[[col]].merge(y,left_index=True,right_index=True)\n",
    "    #人为设置bins\n",
    "    # bins = [0,1000,2000,3000,4000,5000,6000,7000,8000,9000,10000,20000000]\n",
    "    # new_df['col_bin'] = pd.cut(new_df['take_amount_in_later_12_month_highest'],bins,right=False)\n",
    "    #设置等宽分箱  cut \n",
    "    # new_df['col_bin'] = pd.cut(new_df['take_amount_in_later_12_month_highest'],10,right=False)\n",
    "    #设置等频分箱 qcut\n",
    "    new_df['col_bin'] = pd.qcut(new_df[col],10,duplicates='drop')\n",
    "    iv_df = new_df.groupby(['col_bin','status'],as_index=True).count().unstack()\n",
    "    # iv_df.iloc[:,0].values\n",
    "    total_df = pd.DataFrame({'good':iv_df.iloc[:,0].values,'bad':iv_df.iloc[:,1]})\n",
    "    #如果是等宽分箱，会有某箱为空值的情况,需要填充；如果DG为0，此时无法计算WOE值，怎么处理？\n",
    "    #total_df.fillna(0,inplace=True)\n",
    "    IV = 0\n",
    "    for i in range(total_df.shape[0]):\n",
    "        DG = total_df.iloc[i]['good']/total_df['good'].sum()\n",
    "        DB = total_df.iloc[i]['bad']/total_df['bad'].sum()\n",
    "        temp_IV = (DG-DB)*np.log(DG/DB)\n",
    "#         print(DG,DB,temp_IV)\n",
    "        IV += temp_IV\n",
    "    \n",
    "    print('列 {} 的IV值为:{}'.format(col,IV))\n",
    "    return (col,IV)"
   ]
  },
  {
   "cell_type": "code",
   "execution_count": 238,
   "metadata": {
    "scrolled": true
   },
   "outputs": [
    {
     "name": "stdout",
     "output_type": "stream",
     "text": [
      "列 low_volume_percent 的IV值为:0.0123645389299806\n",
      "列 middle_volume_percent 的IV值为:0.02663189211391114\n",
      "列 take_amount_in_later_12_month_highest 的IV值为:0.011814278128922676\n",
      "列 trans_amount_increase_rate_lately 的IV值为:0.026925509963379207\n",
      "列 trans_activity_month 的IV值为:0.013547780703655374\n",
      "列 trans_activity_day 的IV值为:0.0080993252969917\n",
      "列 transd_mcc 的IV值为:0.011375622534180391\n",
      "列 trans_days_interval_filter 的IV值为:0.0245583686098881\n",
      "列 trans_days_interval 的IV值为:0.017956569767230333\n",
      "列 regional_mobility 的IV值为:0.007093628838756509\n",
      "列 student_feature 的IV值为:0.0006098701867066476\n",
      "列 repayment_capability 的IV值为:0.007343226000244455\n",
      "列 is_high_user 的IV值为:0.0\n",
      "列 number_of_trans_from_2011 的IV值为:0.0188879172251111\n",
      "列 historical_trans_amount 的IV值为:0.037591187366284334\n",
      "列 historical_trans_day 的IV值为:0.02749364645969553\n",
      "列 rank_trad_1_month 的IV值为:0.1168352681334168\n",
      "列 trans_amount_3_month 的IV值为:0.04895074362414185\n",
      "列 avg_consume_less_12_valid_month 的IV值为:0.0048499282778669845\n",
      "列 abs 的IV值为:0.015202087782684653\n",
      "列 top_trans_count_last_1_month 的IV值为:0.07107374491892288\n",
      "列 avg_price_last_12_month 的IV值为:0.034729944103710005\n",
      "列 avg_price_top_last_12_valid_month 的IV值为:0.03188506749810821\n",
      "列 reg_preference_for_trad 的IV值为:0.0026230145978515308\n",
      "列 trans_top_time_last_1_month 的IV值为:0.08459884279364838\n",
      "列 trans_top_time_last_6_month 的IV值为:0.015965330419522424\n",
      "列 consume_top_time_last_1_month 的IV值为:0.05597063294107389\n",
      "列 consume_top_time_last_6_month 的IV值为:0.01227132389755335\n",
      "列 cross_consume_count_last_1_month 的IV值为:0.009025062374953256\n",
      "列 trans_fail_top_count_enum_last_1_month 的IV值为:0.5611086486624781\n",
      "列 trans_fail_top_count_enum_last_6_month 的IV值为:0.25634059497052253\n",
      "列 trans_fail_top_count_enum_last_12_month 的IV值为:0.24319623984870403\n",
      "列 consume_mini_time_last_1_month 的IV值为:0.045386581312245745\n",
      "列 max_cumulative_consume_later_1_month 的IV值为:0.10075847722474039\n",
      "列 max_consume_count_later_6_month 的IV值为:0.010104289159736038\n",
      "列 railway_consume_count_last_12_month 的IV值为:0.0\n",
      "列 pawns_auctions_trusts_consume_last_1_month 的IV值为:0.05961077265910428\n",
      "列 pawns_auctions_trusts_consume_last_6_month 的IV值为:0.019969218831645215\n",
      "列 jewelry_consume_count_last_6_month 的IV值为:0.0\n",
      "列 first_transaction_day 的IV值为:0.028231630855342183\n",
      "iv_low {'historical_trans_amount': 0.037591187366284334, 'trans_amount_3_month': 0.04895074362414185, 'top_trans_count_last_1_month': 0.07107374491892288, 'avg_price_last_12_month': 0.034729944103710005, 'avg_price_top_last_12_valid_month': 0.03188506749810821, 'trans_top_time_last_1_month': 0.08459884279364838, 'consume_top_time_last_1_month': 0.05597063294107389, 'consume_mini_time_last_1_month': 0.045386581312245745, 'pawns_auctions_trusts_consume_last_1_month': 0.05961077265910428}\n",
      "iv_middle {'rank_trad_1_month': 0.1168352681334168, 'trans_fail_top_count_enum_last_6_month': 0.25634059497052253, 'trans_fail_top_count_enum_last_12_month': 0.24319623984870403, 'max_cumulative_consume_later_1_month': 0.10075847722474039}\n",
      "iv_high {}\n"
     ]
    }
   ],
   "source": [
    "iv_low = {}\n",
    "iv_middle = {}\n",
    "iv_high = {}\n",
    "for i in range(40):\n",
    "    col,IV = get_iv(X,y,X.columns[i])\n",
    "    if IV >= 0.03 and IV <0.09:\n",
    "        iv_low[col]=IV\n",
    "    elif IV >= 0.09 and IV < 0.29:\n",
    "        iv_middle[col]=IV\n",
    "    elif IV >=0.29 and IV < 0.49:\n",
    "        iv_high[col]=IV\n",
    "        \n",
    "print('iv_low',iv_low)\n",
    "print('iv_middle',iv_middle)\n",
    "print('iv_high',iv_high)\n",
    "    "
   ]
  }
 ],
 "metadata": {
  "kernelspec": {
   "display_name": "Python 3",
   "language": "python",
   "name": "python3"
  },
  "language_info": {
   "codemirror_mode": {
    "name": "ipython",
    "version": 3
   },
   "file_extension": ".py",
   "mimetype": "text/x-python",
   "name": "python",
   "nbconvert_exporter": "python",
   "pygments_lexer": "ipython3",
   "version": "3.7.3"
  }
 },
 "nbformat": 4,
 "nbformat_minor": 2
}
